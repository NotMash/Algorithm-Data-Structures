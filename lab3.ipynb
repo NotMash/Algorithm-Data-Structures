{
 "cells": [
  {
   "cell_type": "markdown",
   "metadata": {},
   "source": [
    "# ECS529U Algorithms and Data Structures\n",
    "# Lab sheet 3\n",
    "\n",
    "This third lab gets you to work with big-Θ classes and practically check the efficiency of\n",
    "sorting algorithms by testing them on randomly generated arrays.\n",
    "\n",
    "**Marks (max 5):** Question 1: 1.5 | Question 2: 1 | Questions 3-7: 0.5 each"
   ]
  },
  {
   "cell_type": "markdown",
   "metadata": {},
   "source": [
    "## Question 1 (does not require coding)\n",
    "\n",
    "For each of the following expressions, find if they are Θ(1), Θ(logn), Θ(n), Θ(nlogn), Θ(<sup>2</sup>), Θ(n<sup>2022</sup>) or Θ(2<sup>n</sup>):\n",
    "1. 500 + 0.5n + 45logn\n",
    "2. 5000\n",
    "3. 42 + nlogn + 5logn + 50n\n",
    "4. 5nlogn + 2<sup>n</sup> + 300n<sup>2020</sup>n<sup>2</sup>\n",
    "\n",
    "Find the complexity, in terms of a simple big-Θ class, of the following expression:\n",
    "\n",
    "&nbsp;&nbsp;&nbsp;&nbsp;&nbsp;&nbsp;5(logn)<sup>13</sup> + 300n<sup>3</sup> + 30nlogn + 100\n",
    "\n",
    "Finally, consider the following function that counts the duplicate elements inside an array.\n",
    "\n",
    "    def countDups(A):\n",
    "        B = A[:]\n",
    "        selectionSort(B)\n",
    "        dups = 0\n",
    "        for i in range (1,len(B)):\n",
    "            if B[i] == B[i-1]: dups += 1\n",
    "        return dups\n",
    "        \n",
    "Explain, in terms of big-Θ, what is the worst-case time complexity of `countDups` as a function of the size of the array `A`. Note here that the line `B=A[:]` is the same `B=A[0:len(A)]`, that is, it creates a copy of `A` and stores it in `B`."
   ]
  },
  {
   "cell_type": "markdown",
   "source": [
    "1. O(N)\n",
    "2. O(1)\n",
    "3. .O(nLogN)\n",
    "4. Θ(2^n)\n",
    "5. O(n^3)\n",
    "6. 0(n^2)"
   ],
   "metadata": {
    "collapsed": false
   }
  },
  {
   "cell_type": "markdown",
   "metadata": {},
   "source": [
    "## Question 2\n",
    "\n",
    "Write a version of insertion sort that works constructively, i.e. returns a new sorted array and leaves the original array unchanged.\n",
    "\n",
    "For example, if we call this version `insertionSortC`, and run the following code\n",
    "\n",
    "    A = [30, 25, 67, 99, 8, 16, 28, 63, 12, 20]\n",
    "    B = insertionSortC(A1)\n",
    "    print(\"Original array is: \",A)\n",
    "    print(\"Sorted is: \",B)\n",
    "we get this printout:\n",
    "\n",
    "    Original array is:  [30, 25, 67, 99, 8, 16, 28, 63, 12, 20]\n",
    "    Sorted is:  [8, 12, 16, 20, 25, 28, 30, 63, 67, 99]\n",
    "    \n",
    "Test your code in at least 5 arrays of your choosing, including the empty array."
   ]
  },
  {
   "cell_type": "code",
   "execution_count": 23,
   "outputs": [],
   "source": [
    "def insertionSortC(A):\n",
    "    \n",
    "    if not A:\n",
    "        return None\n",
    "    \n",
    "    B = A[:]\n",
    "    for i in range(1, len(B)):\n",
    "        j = i\n",
    "        while B[j-1] > B[j] and j>0:\n",
    "            B[j-1], B[j] = B[j], B[j-1]\n",
    "            j-=1\n",
    "    print(\"Original Array: \",A)\n",
    "    return \"Sorted is: \",B"
   ],
   "metadata": {
    "collapsed": false,
    "ExecuteTime": {
     "end_time": "2023-10-08T19:09:13.175039Z",
     "start_time": "2023-10-08T19:09:13.166871Z"
    }
   }
  },
  {
   "cell_type": "code",
   "execution_count": 24,
   "outputs": [
    {
     "name": "stdout",
     "output_type": "stream",
     "text": [
      "Original Array:  [30, 25, 67, 99, 8, 16, 28, 63, 12, 20]\n"
     ]
    },
    {
     "data": {
      "text/plain": "('Sorted is: ', [8, 12, 16, 20, 25, 28, 30, 63, 67, 99])"
     },
     "execution_count": 24,
     "metadata": {},
     "output_type": "execute_result"
    }
   ],
   "source": [
    "arr = [30, 25, 67, 99, 8, 16, 28, 63, 12, 20]\n",
    "\n",
    "insertionSortC(arr)"
   ],
   "metadata": {
    "collapsed": false,
    "ExecuteTime": {
     "end_time": "2023-10-08T19:09:13.523731Z",
     "start_time": "2023-10-08T19:09:13.514092Z"
    }
   }
  },
  {
   "cell_type": "markdown",
   "metadata": {},
   "source": [
    "## Question 3\n",
    "\n",
    "For this question you may use Python's built-in function for producing random numbers. If you import Python's built-in module `random` by calling:\n",
    "\n",
    "    import random\n",
    "\n",
    "then `random.randint(low,high)` will return a random integer in the range `low` to `high` inclusive (i.e. an integer with an equal chance of it being any of the numbers in that range). Use this to write a Python function:\n",
    "\n",
    "    def randomIntArray(s,n)\n",
    "\n",
    "which returns an array of length `s` that in each position has a random integer in the range `0` to `n`.\n",
    "\n",
    "For example, running `randomIntArray(5,10)` we may get back the array `[6, 2, 3, 9, 1]`, or `[6, 10, 6, 1, 1]`, etc."
   ]
  },
  {
   "cell_type": "code",
   "execution_count": 25,
   "outputs": [],
   "source": [
    "import random\n",
    "def randomIntArray(s,n):\n",
    "    A = [0] * s\n",
    "    for i in range(len(A)):\n",
    "        A[i] = random.randint(s,n)\n",
    "        \n",
    "    \n",
    "    return A\n"
   ],
   "metadata": {
    "collapsed": false,
    "ExecuteTime": {
     "end_time": "2023-10-08T19:09:13.799918Z",
     "start_time": "2023-10-08T19:09:13.794729Z"
    }
   }
  },
  {
   "cell_type": "code",
   "execution_count": 25,
   "outputs": [],
   "source": [],
   "metadata": {
    "collapsed": false,
    "ExecuteTime": {
     "end_time": "2023-10-08T19:09:13.928433Z",
     "start_time": "2023-10-08T19:09:13.922644Z"
    }
   }
  },
  {
   "cell_type": "markdown",
   "metadata": {},
   "source": [
    "## Question 4\n",
    "\n",
    "Python's built-in function `time()` in the module `time` returns the current time in the form of the number of seconds since 0.00am on 1st January 1970. So, code of the form:\n",
    "\n",
    "    t = time.time()\n",
    "    <operation>\n",
    "    t = time.time()-t\n",
    "    \n",
    "will set `t` to the time it takes to perform `<operation>`. As `time.time()` returns a floating point number rather than an integer, this could be a fraction of a second.\n",
    "\n",
    "Use this to write a Python function:\n",
    "\n",
    "    def appendTime(A,v)\n",
    "which takes an array `A` a value `v` as input and creates a new array with the same elements as `A` but with `v` appended at its end (for example, you can use the code of the function `append` that we saw in Lecture 1). The function then returns the new array and the time it took to create it. For example:\n",
    "\n",
    "    A = [30, 25, 67, 99, 8, 16, 28, 63, 12, 20]\n",
    "    (B,t) = appendTime(A,42)\n",
    "    print(\"Time taken to append is: \",t)\n",
    "    print(\"The new array is: \",B)\n",
    "\n",
    "we can get the printout:\n",
    "\n",
    "    Time taken to append is:  8.58306884765625e-06\n",
    "    The new array is:  [30, 25, 67, 99, 8, 16, 28, 63, 12, 20, 42]\n",
    "Test your code in at least 5 arrays, with lengths 0, 10, 100, 1000 and 10000 respectively."
   ]
  },
  {
   "cell_type": "code",
   "execution_count": 26,
   "metadata": {
    "ExecuteTime": {
     "end_time": "2023-10-08T19:09:14.196911Z",
     "start_time": "2023-10-08T19:09:14.193570Z"
    }
   },
   "outputs": [
    {
     "name": "stdout",
     "output_type": "stream",
     "text": [
      "Time taken to append is:  1.1920928955078125e-06\n",
      "Time taken to append is:  1.1920928955078125e-06\n",
      "Time taken to append is:  9.5367431640625e-07\n",
      "Time taken to append is:  2.1457672119140625e-06\n",
      "Time taken to append is:  0.0002627372741699219\n"
     ]
    }
   ],
   "source": [
    "import time \n",
    "def appendTime(A,v):\n",
    "    \n",
    "    beginTime = time.time()\n",
    "    \n",
    "    B = A.copy()\n",
    "    \n",
    "    B.append(v)\n",
    "    \n",
    "    endTime = time.time()\n",
    "    \n",
    "    remainingTime = endTime - beginTime\n",
    "    \n",
    "    return B, remainingTime\n",
    "    \n",
    "    \n",
    "\n",
    "# Define a function that generates a list of random integers.\n",
    "def randomIntArray(length, max_value):\n",
    "    # Create an empty list to store the random integers.\n",
    "    random_integers = []\n",
    "    \n",
    "    # Repeat 'length' times to generate the specified number of random integers.\n",
    "    for i in range(length):\n",
    "        # Generate a random integer between 1 and 'max_value' (inclusive) and add it to the list.\n",
    "        random_integer = random.randint(1, max_value)\n",
    "        random_integers.append(random_integer)\n",
    "    \n",
    "    # Return the list of random integers.\n",
    "    return random_integers\n",
    "# a possible set of tests\n",
    "\n",
    "tests = (randomIntArray(i,100) for i in [0,10,100,1000,10000])\n",
    "for A in tests:\n",
    "    (B,t) = appendTime(A,42)\n",
    "    print(\"Time taken to append is: \",t)"
   ]
  },
  {
   "cell_type": "markdown",
   "metadata": {},
   "source": [
    "## Question 5\n",
    "\n",
    "Write a Python method:\n",
    "\n",
    "    def sortTimeUsing(sortf,A)\n",
    "    \n",
    "which returns the time taken to sort the array `A`, but does the sorting using the sorting function\n",
    "passed as argument `sortf`. This uses the concept of passing a function as an\n",
    "argument that was introduced in Question 6 of Lab 1.\n",
    "\n",
    "Use this to compare the time taken to sort using selection sort\n",
    "with the time taken to sort using insertion sort, the code of which you can find on the\n",
    "lecture slides, on some example arrays."
   ]
  },
  {
   "cell_type": "code",
   "execution_count": 165,
   "outputs": [
    {
     "data": {
      "text/plain": "('Insertion Time: ',\n 6.9141387939453125e-06,\n 'and ',\n 'Selection Time: ',\n 7.152557373046875e-06)"
     },
     "execution_count": 165,
     "metadata": {},
     "output_type": "execute_result"
    }
   ],
   "source": [
    "import time\n",
    "\n",
    "def sortTimeUsing(sortf, A):\n",
    "    result = sortf(A)\n",
    "\n",
    "    return result\n",
    "\n",
    "def sortf(A):\n",
    "    #time calculation for insertion\n",
    "    startTime_insertion = time.time()\n",
    "    insertion_sort(A)\n",
    "    endTime_insertion = time.time()\n",
    "    finalTime_insertion = endTime_insertion - startTime_insertion\n",
    "\n",
    "\n",
    "\n",
    "    # time calculation for selection\n",
    "    startTime_selection = time.time()\n",
    "    selection_sort(A)\n",
    "    endTime_selection = time.time()\n",
    "    finalTime_selection = endTime_selection - startTime_selection\n",
    "    \n",
    "    \n",
    "    \n",
    "    final = \"Insertion Time: \", finalTime_insertion, \"and \", \"Selection Time: \", finalTime_selection\n",
    "\n",
    "    return final\n",
    "\n",
    "def insertion_sort(A):\n",
    "    for i in range(1, len(A)):\n",
    "        j = i\n",
    "        while A[j - 1] > A[j] and j > 0:\n",
    "            A[j - 1], A[j] = A[j], A[j - 1]\n",
    "            j -= 1\n",
    "    return A\n",
    "\n",
    "def selection_sort(A):\n",
    "    for i in range(0, len(A) - 1):\n",
    "        currentMin = i\n",
    "        for j in range(i + 1, len(A)):\n",
    "            if A[j] < A[currentMin]:\n",
    "                currentMin = j\n",
    "\n",
    "        A[i], A[currentMin] = A[currentMin], A[i]\n",
    "\n",
    "    return A\n",
    "\n",
    "# Example arrays\n",
    "array1 = [5, 2, 9, 1, 5, 6]\n",
    "array2 = [8, 3, 0, 7, 4, 2]\n",
    "\n",
    "# Compare the time taken for insertion sort and selection sort\n",
    "\n",
    "sortTimeUsing(sortf, array1)\n",
    "\n",
    "\n",
    "\n"
   ],
   "metadata": {
    "collapsed": false,
    "ExecuteTime": {
     "end_time": "2023-10-12T17:09:25.153142Z",
     "start_time": "2023-10-12T17:09:25.150385Z"
    }
   }
  },
  {
   "cell_type": "markdown",
   "metadata": {},
   "source": [
    "## Question 6\n",
    "\n",
    "Use the method `randomIntArray` from Question 3 to provide arrays to be sorted by\n",
    "`sortTimeUsing`. This will enable you to test how long it takes to sort an array much longer than\n",
    "one you could type in yourself. Then, fill in the following table (but see Note).\n",
    "\n",
    "| array length |  10  | 100 | 1000 | 10<sup>4</sup> | 10<sup>5</sup> | 10<sup>6</sup> |\n",
    "|:------------|------|-----|------|-------|--------|----------------|\n",
    "| selection sort time (sec)| |     |      |       |        |                |\n",
    "| insertion sort time (sec)| |     |      |       |        |                |\n",
    "\n",
    "For each array length, produce a random array of that length, sort it via `sortTimeUsing` using selection sort and insertion sort (make sure you sort the same array twice!), and fill in the table the corresponding times.\n",
    "\n",
    "Note: sorting arrays of length greater than 10<sup>5</sup> may make your computer run out of\n",
    "memory and hang. For that reason, you can skip filling in the last column in the table. If you do want to fill it in, make sure you save everything before and be ready to hard-restart your computer!\n",
    "\n",
    "It would also make sense to stop a test if it runs over a few minutes and fill in “timeout” in\n",
    "the respective column."
   ]
  },
  {
   "cell_type": "code",
   "execution_count": 166,
   "outputs": [
    {
     "name": "stdout",
     "output_type": "stream",
     "text": [
      "array length\tselection sort time (sec)\tinsertion sort time (sec)\n",
      "10\t\t0.000005\t\t\t0.000001\n",
      "100\t\t0.000000\t\t\t0.000001\n",
      "1000\t\t0.000001\t\t\t0.000000\n",
      "10000\t\t0.000001\t\t\t0.000000\n",
      "100000\t\t0.000001\t\t\t0.000000\n",
      "1000000\t\t0.000001\t\t\t0.000000\n"
     ]
    }
   ],
   "source": [
    "import random\n",
    "import time\n",
    "\n",
    "def randomIntArray(s, n):\n",
    "    A = [0] * s\n",
    "    for i in range(len(A)):\n",
    "        A[i] = random.randint(s, n)\n",
    "    return A\n",
    "\n",
    "def selection_sort(arr):\n",
    "    for i in range(len(arr)):\n",
    "        min_index = i\n",
    "        for j in range(i + 1, len(arr)):\n",
    "            if arr[j] < arr[min_index]:\n",
    "                min_index = j\n",
    "        arr[i], arr[min_index] = arr[min_index], arr[i]\n",
    "\n",
    "def insertion_sort(arr):\n",
    "    for i in range(1, len(arr)):\n",
    "        key = arr[i]\n",
    "        j = i - 1\n",
    "        while j >= 0 and key < arr[j]:\n",
    "            arr[j + 1] = arr[j]\n",
    "            j -= 1\n",
    "        arr[j + 1] = key\n",
    "\n",
    "def sortTimeUsing(arr_length):\n",
    "    array = randomIntArray(1, 1000)  # You can adjust the range as needed\n",
    "    start_time = time.time()\n",
    "    selection_sort(array.copy())\n",
    "    selection_time = time.time() - start_time\n",
    "\n",
    "    start_time = time.time()\n",
    "    insertion_sort(array.copy())\n",
    "    insertion_time = time.time() - start_time\n",
    "\n",
    "    return selection_time, insertion_time\n",
    "\n",
    "# Fill in the table for the specified array lengths\n",
    "array_lengths = [10, 100, 1000, 10**4, 10**5, 10**6]\n",
    "\n",
    "print(\"array length\\tselection sort time (sec)\\tinsertion sort time (sec)\")\n",
    "for length in array_lengths:\n",
    "    selection_time, insertion_time = sortTimeUsing(length)\n",
    "    print(f\"{length}\\t\\t{selection_time:.6f}\\t\\t\\t{insertion_time:.6f}\")\n"
   ],
   "metadata": {
    "collapsed": false,
    "ExecuteTime": {
     "end_time": "2023-10-12T17:10:15.544775Z",
     "start_time": "2023-10-12T17:10:15.513872Z"
    }
   }
  },
  {
   "cell_type": "markdown",
   "metadata": {},
   "source": [
    "## Question 7\n",
    "\n",
    "Write a version of insertion sort where the `insert` function uses binary search. More precisely, to insert a value `v` in an array `A` where the part `A[:i]` is sorted, the `insert` function will:\n",
    "- use binary search to find the position in `A[:i+1]` where `v` needs to be inserted\n",
    "- move elements from that position one place to the right and insert `v`\n",
    "\n",
    "What is the complexity of this version of insertion sort: O(n<sup>2</sup>) or O(nlogn)?"
   ]
  },
  {
   "cell_type": "code",
   "execution_count": 167,
   "outputs": [
    {
     "name": "stdout",
     "output_type": "stream",
     "text": [
      "Sorted array: [5, 6, 11, 12, 13]\n"
     ]
    }
   ],
   "source": [
    "def binary_insertion_sort(arr):\n",
    "    for i in range(1, len(arr)):\n",
    "        # Use binary search to find the correct insertion position\n",
    "        key = arr[i]\n",
    "        left, right = 0, i - 1\n",
    "        \n",
    "        while left <= right:\n",
    "            mid = (left + right) // 2\n",
    "            if key < arr[mid]:\n",
    "                right = mid - 1\n",
    "            else:\n",
    "                left = mid + 1\n",
    "        \n",
    "        # Insert the element at the correct position and shift elements to the right\n",
    "        for j in range(i, left, -1):\n",
    "            arr[j] = arr[j - 1]\n",
    "        \n",
    "        arr[left] = key\n",
    "\n",
    "# Example usage:\n",
    "arr = [12, 11, 13, 5, 6]\n",
    "binary_insertion_sort(arr)\n",
    "print(\"Sorted array:\", arr)\n"
   ],
   "metadata": {
    "collapsed": false,
    "ExecuteTime": {
     "end_time": "2023-10-12T17:10:16.372026Z",
     "start_time": "2023-10-12T17:10:16.367033Z"
    }
   }
  },
  {
   "cell_type": "code",
   "execution_count": 167,
   "outputs": [],
   "source": [],
   "metadata": {
    "collapsed": false,
    "ExecuteTime": {
     "end_time": "2023-10-12T17:10:16.959215Z",
     "start_time": "2023-10-12T17:10:16.956582Z"
    }
   }
  },
  {
   "cell_type": "code",
   "execution_count": 167,
   "outputs": [],
   "source": [],
   "metadata": {
    "collapsed": false,
    "ExecuteTime": {
     "end_time": "2023-10-12T17:10:17.326265Z",
     "start_time": "2023-10-12T17:10:17.323141Z"
    }
   }
  },
  {
   "cell_type": "code",
   "execution_count": 168,
   "outputs": [
    {
     "name": "stdout",
     "output_type": "stream",
     "text": [
      "Original array: [12, 11, 13, 5, 6, 7]\n",
      "Pivot: 5\n",
      "Left: [] \tMiddle: [5] \tRight: [12, 11, 13, 6, 7]\n",
      "Pivot: 13\n",
      "Left: [12, 11, 6, 7] \tMiddle: [13] \tRight: []\n",
      "Pivot: 6\n",
      "Left: [] \tMiddle: [6] \tRight: [12, 11, 7]\n",
      "Pivot: 11\n",
      "Left: [7] \tMiddle: [11] \tRight: [12]\n",
      "Sorted Array: [7, 11, 12]\n",
      "Sorted Array: [6, 7, 11, 12]\n",
      "Sorted Array: [6, 7, 11, 12, 13]\n",
      "Sorted Array: [5, 6, 7, 11, 12, 13]\n",
      "Final Sorted array: [5, 6, 7, 11, 12, 13]\n"
     ]
    }
   ],
   "source": [
    "def quick_sort(arr):\n",
    "    if len(arr) <= 1:\n",
    "        return arr  # Base case: If the array has 0 or 1 elements, it's already sorted\n",
    "    \n",
    "    pivot = arr[len(arr) // 2]  # Choose a pivot element (middle of the array)\n",
    "    left = [x for x in arr if x < pivot]  # Elements smaller than the pivot\n",
    "    middle = [x for x in arr if x == pivot]  # Elements equal to the pivot\n",
    "    right = [x for x in arr if x > pivot]  # Elements greater than the pivot\n",
    "    \n",
    "    print(\"Pivot:\", pivot)\n",
    "    print(\"Left:\", left, \"\\tMiddle:\", middle, \"\\tRight:\", right)\n",
    "    \n",
    "    # Recursively sort the sub-arrays\n",
    "    sorted_left = quick_sort(left)\n",
    "    sorted_right = quick_sort(right)\n",
    "    \n",
    "    sorted_arr = sorted_left + middle + sorted_right\n",
    "    \n",
    "    print(\"Sorted Array:\", sorted_arr)\n",
    "    return sorted_arr\n",
    "\n",
    "# Example usage:\n",
    "if __name__ == \"__main__\":\n",
    "    arr = [12, 11, 13, 5, 6, 7]\n",
    "    print(\"Original array:\", arr)\n",
    "    \n",
    "    sorted_arr = quick_sort(arr)\n",
    "    \n",
    "    print(\"Final Sorted array:\", sorted_arr)\n"
   ],
   "metadata": {
    "collapsed": false,
    "ExecuteTime": {
     "end_time": "2023-10-12T17:10:17.718536Z",
     "start_time": "2023-10-12T17:10:17.713865Z"
    }
   }
  },
  {
   "cell_type": "code",
   "execution_count": 169,
   "outputs": [
    {
     "data": {
      "text/plain": "[5, 6, 7, 11, 12, 13]"
     },
     "execution_count": 169,
     "metadata": {},
     "output_type": "execute_result"
    }
   ],
   "source": [
    "def quickSort2(arr):\n",
    "    \n",
    "    if len(arr) <=1:\n",
    "        return arr\n",
    "    \n",
    "    pivot = arr[len(arr)//2]\n",
    "    left = [x for x in arr if x < pivot]\n",
    "    middle = [x for x in arr if x == pivot]\n",
    "    right  = [x for x in arr if x > pivot]\n",
    "    \n",
    "    return (quickSort2(left)+middle+quickSort2(right))\n",
    "quickSort2(arr)\n",
    "\n",
    "\n"
   ],
   "metadata": {
    "collapsed": false,
    "ExecuteTime": {
     "end_time": "2023-10-12T17:10:18.162462Z",
     "start_time": "2023-10-12T17:10:18.160834Z"
    }
   }
  },
  {
   "cell_type": "code",
   "execution_count": 170,
   "outputs": [],
   "source": [
    "def quickSort_33(arr):\n",
    "    \n",
    "    if len(arr) <= 1:\n",
    "        return arr\n",
    "    \n",
    "    pivot = arr[len(arr)//2]\n",
    "    \n",
    "    left = [x for x in arr if x < pivot]\n",
    "    middle = [x for x in arr if x == pivot]\n",
    "    right = [x for x in arr if x > pivot]\n",
    "    \n",
    "    return (quickSort_33(left) + middle + quickSort_33(right))"
   ],
   "metadata": {
    "collapsed": false,
    "ExecuteTime": {
     "end_time": "2023-10-12T17:10:18.596922Z",
     "start_time": "2023-10-12T17:10:18.595470Z"
    }
   }
  },
  {
   "cell_type": "code",
   "execution_count": 171,
   "outputs": [
    {
     "data": {
      "text/plain": "[5, 6, 7, 8, 9, 11, 12, 13, 32, 123]"
     },
     "execution_count": 171,
     "metadata": {},
     "output_type": "execute_result"
    }
   ],
   "source": [
    "arr = [12, 11, 13, 5, 6, 7,8,9,32,123]\n",
    "\n",
    "quickSort_33(arr)"
   ],
   "metadata": {
    "collapsed": false,
    "ExecuteTime": {
     "end_time": "2023-10-12T17:10:19.010718Z",
     "start_time": "2023-10-12T17:10:19.007699Z"
    }
   }
  },
  {
   "cell_type": "code",
   "execution_count": 147,
   "outputs": [],
   "source": [
    "def quickSort_current(arr):\n",
    "    if len(arr)<=1:\n",
    "        return arr\n",
    "    \n",
    "    pivot = arr[len(arr)//2]\n",
    "    \n",
    "    left = [x for x in arr if x < pivot]\n",
    "    middle = [x for x in arr if x == pivot]\n",
    "    right = [x for x in arr if x > pivot]\n",
    "    \n",
    "    return (quickSort_current(left)+middle+quickSort_current(right))\n",
    "    \n",
    "    \n",
    "    "
   ],
   "metadata": {
    "collapsed": false,
    "ExecuteTime": {
     "end_time": "2023-10-11T16:42:38.785705Z",
     "start_time": "2023-10-11T16:42:38.781824Z"
    }
   }
  },
  {
   "cell_type": "code",
   "execution_count": 149,
   "outputs": [
    {
     "name": "stdout",
     "output_type": "stream",
     "text": [
      "Unsorted array: [69, 13, 58, 75, 59, 87, 3, 43, 14, 31]\n"
     ]
    },
    {
     "data": {
      "text/plain": "[3, 13, 14, 31, 43, 58, 59, 69, 75, 87]"
     },
     "execution_count": 149,
     "metadata": {},
     "output_type": "execute_result"
    }
   ],
   "source": [
    "import random\n",
    "\n",
    "unsorted_array = [random.randint(1, 100) for i in range(10)]\n",
    "print(\"Unsorted array:\", unsorted_array)\n",
    "\n",
    "quickSort_current(unsorted_array)"
   ],
   "metadata": {
    "collapsed": false,
    "ExecuteTime": {
     "end_time": "2023-10-11T16:42:43.312929Z",
     "start_time": "2023-10-11T16:42:43.302375Z"
    }
   }
  },
  {
   "cell_type": "code",
   "execution_count": 141,
   "outputs": [],
   "source": [
    "    def merge_sort(arr):\n",
    "        if len(arr)<=1:\n",
    "            return arr\n",
    "        \n",
    "        \n",
    "        mid = len(arr)//2\n",
    "        \n",
    "        leftSide = arr[:mid]\n",
    "        rightSide = arr[mid:]\n",
    "        \n",
    "        merge_sort(leftSide)\n",
    "        \n",
    "        merge_sort(rightSide)\n",
    "        \n",
    "        i = j = k = 0\n",
    "        \n",
    "        while i < len(leftSide) and j < len(rightSide):\n",
    "            if leftSide[i] < rightSide[j]:\n",
    "                arr[k] = leftSide[i]\n",
    "                i+=1\n",
    "            else:\n",
    "                arr[k] = rightSide[j]\n",
    "                j+=1\n",
    "            k+=1\n",
    "            \n",
    "        \n",
    "        \n",
    "        while i < len(leftSide):\n",
    "            arr[k] = leftSide[i]\n",
    "            i+=1\n",
    "            k+=1\n",
    "            \n",
    "            \n",
    "        while j < len(rightSide):\n",
    "            arr[k] = rightSide[j]\n",
    "            j+=1\n",
    "            k+=1\n",
    "           \n",
    "          \n",
    "        \n",
    "            \n",
    "        return arr"
   ],
   "metadata": {
    "collapsed": false,
    "ExecuteTime": {
     "end_time": "2023-10-11T16:20:03.157217Z",
     "start_time": "2023-10-11T16:20:03.149667Z"
    }
   }
  },
  {
   "cell_type": "code",
   "execution_count": 142,
   "outputs": [
    {
     "name": "stdout",
     "output_type": "stream",
     "text": [
      "Unsorted array: [54, 64, 48, 5, 14, 93, 33, 87, 73, 45]\n"
     ]
    },
    {
     "data": {
      "text/plain": "[5, 14, 33, 45, 48, 54, 64, 73, 87, 93]"
     },
     "execution_count": 142,
     "metadata": {},
     "output_type": "execute_result"
    }
   ],
   "source": [
    "import random\n",
    "\n",
    "unsorted_array = [random.randint(1, 100) for i in range(10)]\n",
    "print(\"Unsorted array:\", unsorted_array)\n",
    "\n",
    "merge_sort(unsorted_array)"
   ],
   "metadata": {
    "collapsed": false,
    "ExecuteTime": {
     "end_time": "2023-10-11T16:20:04.496126Z",
     "start_time": "2023-10-11T16:20:04.488513Z"
    }
   }
  },
  {
   "cell_type": "code",
   "execution_count": 137,
   "outputs": [],
   "source": [],
   "metadata": {
    "collapsed": false,
    "ExecuteTime": {
     "end_time": "2023-10-11T16:00:54.959570Z",
     "start_time": "2023-10-11T16:00:54.939198Z"
    }
   }
  }
 ],
 "metadata": {
  "kernelspec": {
   "display_name": "Python 3 (ipykernel)",
   "language": "python",
   "name": "python3"
  },
  "language_info": {
   "codemirror_mode": {
    "name": "ipython",
    "version": 3
   },
   "file_extension": ".py",
   "mimetype": "text/x-python",
   "name": "python",
   "nbconvert_exporter": "python",
   "pygments_lexer": "ipython3",
   "version": "3.10.6"
  }
 },
 "nbformat": 4,
 "nbformat_minor": 2
}
