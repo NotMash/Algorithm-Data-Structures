{
 "cells": [
  {
   "cell_type": "markdown",
   "metadata": {},
   "source": [
    "# ECS529U Algorithms and Data Structures\n",
    "# Lab sheet 3\n",
    "\n",
    "This third lab gets you to work with big-Θ classes and practically check the efficiency of\n",
    "sorting algorithms by testing them on randomly generated arrays.\n",
    "\n",
    "**Marks (max 5):** Question 1: 1.5 | Question 2: 1 | Questions 3-7: 0.5 each"
   ]
  },
  {
   "cell_type": "markdown",
   "metadata": {},
   "source": [
    "## Question 1 (does not require coding)\n",
    "\n",
    "For each of the following expressions, find if they are Θ(1), Θ(logn), Θ(n), Θ(nlogn), Θ(<sup>2</sup>), Θ(n<sup>2022</sup>) or Θ(2<sup>n</sup>):\n",
    "1. 500 + 0.5n + 45logn\n",
    "2. 5000\n",
    "3. 42 + nlogn + 5logn + 50n\n",
    "4. 5nlogn + 2<sup>n</sup> + 300n<sup>2020</sup>n<sup>2</sup>\n",
    "\n",
    "Find the complexity, in terms of a simple big-Θ class, of the following expression:\n",
    "\n",
    "&nbsp;&nbsp;&nbsp;&nbsp;&nbsp;&nbsp;5(logn)<sup>13</sup> + 300n<sup>3</sup> + 30nlogn + 100\n",
    "\n",
    "Finally, consider the following function that counts the duplicate elements inside an array.\n",
    "\n",
    "    def countDups(A):\n",
    "        B = A[:]\n",
    "        selectionSort(B)\n",
    "        dups = 0\n",
    "        for i in range (1,len(B)):\n",
    "            if B[i] == B[i-1]: dups += 1\n",
    "        return dups\n",
    "        \n",
    "Explain, in terms of big-Θ, what is the worst-case time complexity of `countDups` as a function of the size of the array `A`. Note here that the line `B=A[:]` is the same `B=A[0:len(A)]`, that is, it creates a copy of `A` and stores it in `B`."
   ]
  },
  {
   "cell_type": "markdown",
   "source": [
    "1. O(nlogN)\n",
    "2. O(1)\n",
    "3.O(nLogN)\n",
    "4. Θ(2^n)\n",
    "O(n^2)"
   ],
   "metadata": {
    "collapsed": false
   }
  },
  {
   "cell_type": "markdown",
   "metadata": {},
   "source": [
    "## Question 2\n",
    "\n",
    "Write a version of insertion sort that works constructively, i.e. returns a new sorted array and leaves the original array unchanged.\n",
    "\n",
    "For example, if we call this version `insertionSortC`, and run the following code\n",
    "\n",
    "    A = [30, 25, 67, 99, 8, 16, 28, 63, 12, 20]\n",
    "    B = insertionSortC(A1)\n",
    "    print(\"Original array is: \",A)\n",
    "    print(\"Sorted is: \",B)\n",
    "we get this printout:\n",
    "\n",
    "    Original array is:  [30, 25, 67, 99, 8, 16, 28, 63, 12, 20]\n",
    "    Sorted is:  [8, 12, 16, 20, 25, 28, 30, 63, 67, 99]\n",
    "    \n",
    "Test your code in at least 5 arrays of your choosing, including the empty array."
   ]
  },
  {
   "cell_type": "code",
   "execution_count": 35,
   "outputs": [],
   "source": [
    "def insertionSortC(A):\n",
    "    \n",
    "    if not A:\n",
    "        return None\n",
    "    \n",
    "    B = A[:]\n",
    "    for i in range(1, len(B)):\n",
    "        j = i\n",
    "        while B[j-1] > B[j] and j>0:\n",
    "            B[j-1], B[j] = B[j], B[j-1]\n",
    "            j-=1\n",
    "    print(\"Original Array: \",A)\n",
    "    return \"Sorted is: \",B"
   ],
   "metadata": {
    "collapsed": false,
    "ExecuteTime": {
     "end_time": "2023-10-06T13:17:25.236264Z",
     "start_time": "2023-10-06T13:17:25.111898Z"
    }
   }
  },
  {
   "cell_type": "code",
   "execution_count": 36,
   "outputs": [
    {
     "name": "stdout",
     "output_type": "stream",
     "text": [
      "Original Array:  [30, 25, 67, 99, 8, 16, 28, 63, 12, 20]\n"
     ]
    },
    {
     "data": {
      "text/plain": "('Sorted is: ', [8, 12, 16, 20, 25, 28, 30, 63, 67, 99])"
     },
     "execution_count": 36,
     "metadata": {},
     "output_type": "execute_result"
    }
   ],
   "source": [
    "arr = [30, 25, 67, 99, 8, 16, 28, 63, 12, 20]\n",
    "\n",
    "insertionSortC(arr)"
   ],
   "metadata": {
    "collapsed": false,
    "ExecuteTime": {
     "end_time": "2023-10-06T13:17:26.500642Z",
     "start_time": "2023-10-06T13:17:26.359833Z"
    }
   }
  },
  {
   "cell_type": "markdown",
   "metadata": {},
   "source": [
    "## Question 3\n",
    "\n",
    "For this question you may use Python's built-in function for producing random numbers. If you import Python's built-in module `random` by calling:\n",
    "\n",
    "    import random\n",
    "\n",
    "then `random.randint(low,high)` will return a random integer in the range `low` to `high` inclusive (i.e. an integer with an equal chance of it being any of the numbers in that range). Use this to write a Python function:\n",
    "\n",
    "    def randomIntArray(s,n)\n",
    "\n",
    "which returns an array of length `s` that in each position has a random integer in the range `0` to `n`.\n",
    "\n",
    "For example, running `randomIntArray(5,10)` we may get back the array `[6, 2, 3, 9, 1]`, or `[6, 10, 6, 1, 1]`, etc."
   ]
  },
  {
   "cell_type": "code",
   "execution_count": 33,
   "outputs": [],
   "source": [
    "import random\n",
    "def randomIntArray(s,n):\n",
    "    A = [0] * s\n",
    "    for i in range(len(A)):\n",
    "        A[i] = random.randint(s,n)\n",
    "        \n",
    "    \n",
    "    return A\n"
   ],
   "metadata": {
    "collapsed": false,
    "ExecuteTime": {
     "end_time": "2023-10-05T21:02:38.009283Z",
     "start_time": "2023-10-05T21:02:37.926595Z"
    }
   }
  },
  {
   "cell_type": "code",
   "execution_count": 34,
   "outputs": [
    {
     "data": {
      "text/plain": "[8, 12, 7, 7, 9]"
     },
     "execution_count": 34,
     "metadata": {},
     "output_type": "execute_result"
    }
   ],
   "source": [],
   "metadata": {
    "collapsed": false,
    "ExecuteTime": {
     "end_time": "2023-10-05T21:02:39.572283Z",
     "start_time": "2023-10-05T21:02:39.449672Z"
    }
   }
  },
  {
   "cell_type": "markdown",
   "metadata": {},
   "source": [
    "## Question 4\n",
    "\n",
    "Python's built-in function `time()` in the module `time` returns the current time in the form of the number of seconds since 0.00am on 1st January 1970. So, code of the form:\n",
    "\n",
    "    t = time.time()\n",
    "    <operation>\n",
    "    t = time.time()-t\n",
    "    \n",
    "will set `t` to the time it takes to perform `<operation>`. As `time.time()` returns a floating point number rather than an integer, this could be a fraction of a second.\n",
    "\n",
    "Use this to write a Python function:\n",
    "\n",
    "    def appendTime(A,v)\n",
    "which takes an array `A` a value `v` as input and creates a new array with the same elements as `A` but with `v` appended at its end (for example, you can use the code of the function `append` that we saw in Lecture 1). The function then returns the new array and the time it took to create it. For example:\n",
    "\n",
    "    A = [30, 25, 67, 99, 8, 16, 28, 63, 12, 20]\n",
    "    (B,t) = appendTime(A,42)\n",
    "    print(\"Time taken to append is: \",t)\n",
    "    print(\"The new array is: \",B)\n",
    "\n",
    "we can get the printout:\n",
    "\n",
    "    Time taken to append is:  8.58306884765625e-06\n",
    "    The new array is:  [30, 25, 67, 99, 8, 16, 28, 63, 12, 20, 42]\n",
    "Test your code in at least 5 arrays, with lengths 0, 10, 100, 1000 and 10000 respectively."
   ]
  },
  {
   "cell_type": "code",
   "execution_count": 41,
   "metadata": {
    "ExecuteTime": {
     "end_time": "2023-10-06T14:24:12.811338Z",
     "start_time": "2023-10-06T14:24:12.724122Z"
    }
   },
   "outputs": [
    {
     "name": "stdout",
     "output_type": "stream",
     "text": [
      "Time taken to append is:  1.1920928955078125e-06\n",
      "Time taken to append is:  9.5367431640625e-07\n",
      "Time taken to append is:  1.9073486328125e-06\n",
      "Time taken to append is:  2.1457672119140625e-06\n",
      "Time taken to append is:  4.410743713378906e-05\n"
     ]
    }
   ],
   "source": [
    "import time \n",
    "def appendTime(A,v):\n",
    "    \n",
    "    beginTime = time.time()\n",
    "    \n",
    "    B = A.copy()\n",
    "    \n",
    "    B.append(v)\n",
    "    \n",
    "    endTime = time.time()\n",
    "    \n",
    "    remainingTime = endTime - beginTime\n",
    "    \n",
    "    return B, remainingTime\n",
    "    \n",
    "    \n",
    "\n",
    "# Define a function that generates a list of random integers.\n",
    "def randomIntArray(length, max_value):\n",
    "    # Create an empty list to store the random integers.\n",
    "    random_integers = []\n",
    "    \n",
    "    # Repeat 'length' times to generate the specified number of random integers.\n",
    "    for i in range(length):\n",
    "        # Generate a random integer between 1 and 'max_value' (inclusive) and add it to the list.\n",
    "        random_integer = random.randint(1, max_value)\n",
    "        random_integers.append(random_integer)\n",
    "    \n",
    "    # Return the list of random integers.\n",
    "    return random_integers\n",
    "# a possible set of tests\n",
    "\n",
    "tests = (randomIntArray(i,100) for i in [0,10,100,1000,10000])\n",
    "for A in tests:\n",
    "    (B,t) = appendTime(A,42)\n",
    "    print(\"Time taken to append is: \",t)"
   ]
  },
  {
   "cell_type": "markdown",
   "metadata": {},
   "source": [
    "## Question 5\n",
    "\n",
    "Write a Python method:\n",
    "\n",
    "    def sortTimeUsing(sortf,A)\n",
    "    \n",
    "which returns the time taken to sort the array `A`, but does the sorting using the sorting function\n",
    "passed as argument `sortf`. This uses the concept of passing a function as an\n",
    "argument that was introduced in Question 6 of Lab 1.\n",
    "\n",
    "Use this to compare the time taken to sort using selection sort\n",
    "with the time taken to sort using insertion sort, the code of which you can find on the\n",
    "lecture slides, on some example arrays."
   ]
  },
  {
   "cell_type": "code",
   "execution_count": 50,
   "outputs": [
    {
     "data": {
      "text/plain": "('Insertion Time: ',\n 5.245208740234375e-06,\n 'and ',\n 'Selection Time: ',\n 3.814697265625e-06)"
     },
     "execution_count": 50,
     "metadata": {},
     "output_type": "execute_result"
    }
   ],
   "source": [
    "import time\n",
    "\n",
    "def sortTimeUsing(sortf, A):\n",
    "    result = sortf(A)\n",
    "\n",
    "    return result\n",
    "\n",
    "def sortf(A):\n",
    "    #time calculation for insertion\n",
    "    startTime_insertion = time.time()\n",
    "    insertion_sort(A)\n",
    "    endTime_insertion = time.time()\n",
    "    finalTime_insertion = endTime_insertion - startTime_insertion\n",
    "\n",
    "\n",
    "\n",
    "    # time calculation for selection\n",
    "    startTime_selection = time.time()\n",
    "    selection_sort(A)\n",
    "    endTime_selection = time.time()\n",
    "    finalTime_selection = endTime_selection - startTime_selection\n",
    "    \n",
    "    final = \"Insertion Time: \", finalTime_insertion, \"and \", \"Selection Time: \", finalTime_selection\n",
    "\n",
    "    return final\n",
    "\n",
    "def insertion_sort(A):\n",
    "    for i in range(1, len(A)):\n",
    "        j = i\n",
    "        while A[j - 1] > A[j] and j > 0:\n",
    "            A[j - 1], A[j] = A[j], A[j - 1]\n",
    "            j -= 1\n",
    "    return A\n",
    "\n",
    "def selection_sort(A):\n",
    "    for i in range(0, len(A) - 1):\n",
    "        currentMin = i\n",
    "        for j in range(i + 1, len(A)):\n",
    "            if A[j] < A[currentMin]:\n",
    "                currentMin = j\n",
    "\n",
    "        A[i], A[currentMin] = A[currentMin], A[i]\n",
    "\n",
    "    return A\n",
    "\n",
    "# Example arrays\n",
    "array1 = [5, 2, 9, 1, 5, 6]\n",
    "array2 = [8, 3, 0, 7, 4, 2, 1]\n",
    "\n",
    "# Compare the time taken for insertion sort and selection sort\n",
    "\n",
    "sortTimeUsing(sortf, array1)\n",
    "\n",
    "\n",
    "\n"
   ],
   "metadata": {
    "collapsed": false,
    "ExecuteTime": {
     "end_time": "2023-10-06T14:51:14.791071Z",
     "start_time": "2023-10-06T14:51:14.502171Z"
    }
   }
  },
  {
   "cell_type": "markdown",
   "metadata": {},
   "source": [
    "## Question 6\n",
    "\n",
    "Use the method `randomIntArray` from Question 3 to provide arrays to be sorted by\n",
    "`sortTimeUsing`. This will enable you to test how long it takes to sort an array much longer than\n",
    "one you could type in yourself. Then, fill in the following table (but see Note).\n",
    "\n",
    "| array length |  10  | 100 | 1000 | 10<sup>4</sup> | 10<sup>5</sup> | 10<sup>6</sup> |\n",
    "|:------------|------|-----|------|-------|--------|----------------|\n",
    "| selection sort time (sec)| |     |      |       |        |                |\n",
    "| insertion sort time (sec)| |     |      |       |        |                |\n",
    "\n",
    "For each array length, produce a random array of that length, sort it via `sortTimeUsing` using selection sort and insertion sort (make sure you sort the same array twice!), and fill in the table the corresponding times.\n",
    "\n",
    "Note: sorting arrays of length greater than 10<sup>5</sup> may make your computer run out of\n",
    "memory and hang. For that reason, you can skip filling in the last column in the table. If you do want to fill it in, make sure you save everything before and be ready to hard-restart your computer!\n",
    "\n",
    "It would also make sense to stop a test if it runs over a few minutes and fill in “timeout” in\n",
    "the respective column."
   ]
  },
  {
   "cell_type": "markdown",
   "metadata": {},
   "source": [
    "## Question 7\n",
    "\n",
    "Write a version of insertion sort where the `insert` function uses binary search. More precisely, to insert a value `v` in an array `A` where the part `A[:i]` is sorted, the `insert` function will:\n",
    "- use binary search to find the position in `A[:i+1]` where `v` needs to be inserted\n",
    "- move elements from that position one place to the right and insert `v`\n",
    "\n",
    "What is the complexity of this version of insertion sort: O(n<sup>2</sup>) or O(nlogn)?"
   ]
  },
  {
   "cell_type": "code",
   "execution_count": null,
   "outputs": [],
   "source": [],
   "metadata": {
    "collapsed": false
   }
  }
 ],
 "metadata": {
  "kernelspec": {
   "display_name": "Python 3 (ipykernel)",
   "language": "python",
   "name": "python3"
  },
  "language_info": {
   "codemirror_mode": {
    "name": "ipython",
    "version": 3
   },
   "file_extension": ".py",
   "mimetype": "text/x-python",
   "name": "python",
   "nbconvert_exporter": "python",
   "pygments_lexer": "ipython3",
   "version": "3.10.6"
  }
 },
 "nbformat": 4,
 "nbformat_minor": 2
}
