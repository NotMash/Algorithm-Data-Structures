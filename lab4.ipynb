{
 "cells": [
  {
   "cell_type": "markdown",
   "metadata": {},
   "source": [
    "# ECS529U Algorithms and Data Structures\n",
    "# Lab sheet 4\n",
    "\n",
    "This fourth lab gets you to work with recursive algorithms and also practically compare the\n",
    "efficiency of more sorting algorithms by testing them on randomly generated arrays.\n",
    "\n",
    "**Marks (max 5):** Questions 1-3: 1 each | Questions 4-7: 0.5 each"
   ]
  },
  {
   "cell_type": "markdown",
   "metadata": {},
   "source": [
    "## Question 1\n",
    "\n",
    "Write a Python function\n",
    "   \n",
    "    def timesOccursIn(k,A)\n",
    "    \n",
    "which which takes an integer and an array of integers and returns the number of times the\n",
    "integer occurs in the array. You must use recursion and no loops for this question.\n",
    "\n",
    "For example, if its arguments are `5` and `[1,2,5,3,6,5,3,5,5,4]` the function should return `4`.\n",
    "\n",
    "_Hint:_ Suppose `A` is not empty. If the first element of `A` is in fact `k`, the number of times that `k`\n",
    "occurs in `A` is “1 + the number of times it occurs in `A[1:]`”. Otherwise, it is the same as the\n",
    "number of times it occurs in `A[1:]`. On the other hand, if `A` is the empty array `[]` then `k`\n",
    "occurs 0 times in it."
   ]
  },
  {
   "cell_type": "code",
   "execution_count": 2,
   "outputs": [
    {
     "name": "stdout",
     "output_type": "stream",
     "text": [
      "4\n"
     ]
    }
   ],
   "source": [
    "def timesOccursIn(k, A):\n",
    "    # Base case: if the array is empty, k occurs 0 times.\n",
    "    if len(A) == 0:\n",
    "        return 0\n",
    "    # Recursive case: if the first element of A is k, add 1 to the count\n",
    "    # and continue counting in the rest of the array.\n",
    "    elif A[0] == k:\n",
    "        return 1 + timesOccursIn(k, A[1:])\n",
    "    # If the first element is not k, simply continue counting in the rest of the array.\n",
    "    else:\n",
    "        return timesOccursIn(k, A[1:])\n",
    "\n",
    "# Example usage:\n",
    "arr = [1, 2, 5, 3, 6, 5, 3, 5, 5, 4]\n",
    "target = 5\n",
    "count = timesOccursIn(target, arr)\n",
    "print(count)  # This will print 4 for the given example.\n"
   ],
   "metadata": {
    "collapsed": false,
    "ExecuteTime": {
     "end_time": "2023-10-12T16:03:17.966233Z",
     "start_time": "2023-10-12T16:03:17.963167Z"
    }
   }
  },
  {
   "cell_type": "markdown",
   "metadata": {},
   "source": [
    "## Question 2\n",
    "Write a Python function\n",
    "\n",
    "    def multArray(A,k)\n",
    "\n",
    "which takes an array `A` of integers and an integer `k` and changes `A` by multiplying each of\n",
    "its elements by `k`. You must use recursion and no loops for this question.\n",
    "For example, if it takes the array `[5,12,31,7,25]` and the integer `10`, it changes the \n",
    "array so that it becomes `[50,120,310,70,250]`.\n",
    "\n",
    "_Hint:_ The following “solution” will not work, as each recursive call creates a new copy of A\n",
    "so the original A is not changed.\n",
    "\n",
    "    def multAllNope(k,A):\n",
    "        if A == []: return\n",
    "        A[0] = A[0]*k\n",
    "        return multAllNope(k,A[1:])        \n",
    "Instead, the trick to do this is to define an auxiliary function `multAllRec(k,A,i)` which multiplies all elements of `A[i:]` by `k`. This function can then be defined with recursion."
   ]
  },
  {
   "cell_type": "code",
   "execution_count": 18,
   "outputs": [
    {
     "name": "stdout",
     "output_type": "stream",
     "text": [
      "[2, 4, 10, 6, 12, 10, 6, 10, 10, 8]\n"
     ]
    }
   ],
   "source": [
    "def multArray(A, k, i=0):\n",
    "    \n",
    "    if i == len(A):\n",
    "        return\n",
    "\n",
    "  \n",
    "    A[i] = A[i] * k\n",
    "\n",
    "    multArray(A, k, i + 1)\n",
    "\n",
    "\n",
    "arr2 = [1, 2, 5, 3, 6, 5, 3, 5, 5, 4]\n",
    "scalar = 2\n",
    "multArray(arr2, scalar)\n",
    "\n",
    "\n",
    "print(arr2) \n"
   ],
   "metadata": {
    "collapsed": false,
    "ExecuteTime": {
     "end_time": "2023-10-12T16:17:35.061384Z",
     "start_time": "2023-10-12T16:17:35.055420Z"
    }
   }
  },
  {
   "cell_type": "markdown",
   "metadata": {},
   "source": [
    "## Question 3\n",
    "\n",
    "Using recursion, write a Python function\n",
    "\n",
    "    def printArray(A)\n",
    "    \n",
    "that prints the elements of `A`, in order, one element per line.\n",
    "\n",
    "Now, using recursion, write a Python function\n",
    "\n",
    "    def printArrayRev(A)\n",
    "    \n",
    "that prints the elements of `A`, in reversed order, one element per line."
   ]
  },
  {
   "cell_type": "code",
   "execution_count": 36,
   "outputs": [
    {
     "name": "stdout",
     "output_type": "stream",
     "text": [
      "5\n",
      "5\n",
      "4\n",
      "3\n",
      "2\n",
      "1\n"
     ]
    }
   ],
   "source": [
    "def printArray(A):\n",
    "    if len(A) ==0:\n",
    "        return \n",
    "    \n",
    "    # print(A[0])\n",
    "    # print(\" \")\n",
    "    \n",
    "    return printArray(A[1:])\n",
    "\n",
    "\n",
    "arr12 = [1,2,3,4,5]\n",
    "\n",
    "\n",
    "print(len(arr12))\n",
    "\n",
    "printArray(arr12)\n",
    "\n",
    "\n",
    "def printArrayRev(A):\n",
    "    if len(A) == 0:\n",
    "        return \n",
    "    \n",
    "    print(A[len(A)-1])\n",
    "    \n",
    "    return printArrayRev(A[:len(A)-1])\n",
    "\n",
    "printArrayRev(arr12)\n",
    "\n",
    "\n",
    "\n"
   ],
   "metadata": {
    "collapsed": false,
    "ExecuteTime": {
     "end_time": "2023-10-12T16:30:40.554233Z",
     "start_time": "2023-10-12T16:30:40.547904Z"
    }
   }
  },
  {
   "cell_type": "markdown",
   "metadata": {},
   "source": [
    "## Question 4\n",
    "\n",
    "Using recursion, write a Python function\n",
    "\n",
    "    def binSearch2(A,k)\n",
    "    \n",
    "which searches for `k` in `A` using binary search (see Lecture 1)."
   ]
  },
  {
   "cell_type": "code",
   "execution_count": 45,
   "outputs": [
    {
     "name": "stdout",
     "output_type": "stream",
     "text": [
      "4  Index\n"
     ]
    }
   ],
   "source": [
    "def binSearch2(A,k):\n",
    "    return binarySearch(A,k,0,len(A)-1)\n",
    "\n",
    "def binarySearch(A,k,low,hi):\n",
    "    \n",
    "    if low > hi:\n",
    "        return -1\n",
    "    \n",
    "    mid = (low+hi)//2\n",
    "\n",
    "    if A[mid]==k:\n",
    "        return mid\n",
    "    \n",
    "    elif mid<k:\n",
    "        return binarySearch(A,k,low+1,hi)\n",
    "    \n",
    "    else:\n",
    "        return binarySearch(A,k,low,hi-1)\n",
    "    \n",
    "arr = [1, 2, 3, 4, 5, 6, 7, 8, 9]\n",
    "target = 5\n",
    "result = binSearch2(arr, target)\n",
    "\n",
    "print(result,\" Index\")\n",
    "        "
   ],
   "metadata": {
    "collapsed": false,
    "ExecuteTime": {
     "end_time": "2023-10-12T17:16:22.829694Z",
     "start_time": "2023-10-12T17:16:22.823145Z"
    }
   }
  },
  {
   "cell_type": "markdown",
   "metadata": {},
   "source": [
    "## Question 5\n",
    "\n",
    "Using your solution to Question 5 from Lab 3, compare the four sorting functions we saw\n",
    "(selection, insertion, merge and quick sort) using random arrays and fill in the table below.\n",
    "For each array length, produce 5 random arrays to test the sorting functions and fill in the\n",
    "corresponding cell the average running time (in seconds) for each function. You can copy\n",
    "and paste the sorting code from the lecture slides.\n",
    "\n",
    "| array length |  10  | 100 | 1000 | 10<sup>4</sup> | 10<sup>5</sup> |\n",
    "|:------------|------|-----|------|-------|--------|\n",
    "| selection sort time (sec)| |     |      |       |        |                \n",
    "| insertion sort time (sec)| |     |      |       |        |                \n",
    "| merge sort time (sec)| |     |      |       |        |                \n",
    "| quicksort time (sec)| |     |      |       |        |                \n"
   ]
  },
  {
   "cell_type": "code",
   "execution_count": 42,
   "outputs": [
    {
     "name": "stdout",
     "output_type": "stream",
     "text": [
      "[1, 2, 3, 4, 5, 6]\n"
     ]
    }
   ],
   "source": [
    "def quickSort(arr):\n",
    "    \n",
    "    if len(arr)<=1:\n",
    "        return arr\n",
    "    \n",
    "    mid = len(arr)//2\n",
    "    \n",
    "    pivot = arr[mid]\n",
    "    \n",
    "    left = [x for x in arr if x<pivot]\n",
    "    middle = [x for x in arr if x==pivot]\n",
    "    right = [x for x in arr if x>pivot]\n",
    "    \n",
    "    return (quickSort(left)+middle+quickSort(right))\n",
    "\n",
    "def insertion_sort(A):\n",
    "    for i in range(1, len(A)):\n",
    "        j = i\n",
    "        while A[j - 1] > A[j] and j > 0:\n",
    "            A[j - 1], A[j] = A[j], A[j - 1]\n",
    "            j -= 1\n",
    "    return A\n",
    "\n",
    "def selection_sort(A):\n",
    "    for i in range(0, len(A) - 1):\n",
    "        currentMin = i\n",
    "        for j in range(i + 1, len(A)):\n",
    "            if A[j] < A[currentMin]:\n",
    "                currentMin = j\n",
    "\n",
    "        A[i], A[currentMin] = A[currentMin], A[i]\n",
    "\n",
    "    return A\n",
    "\n",
    "\n",
    "def merge_sort(arr):\n",
    "        if len(arr)<=1:\n",
    "            return arr\n",
    "        mid = len(arr)//2\n",
    "        leftSide = arr[:mid]\n",
    "        rightSide = arr[mid:]\n",
    "        merge_sort(leftSide)\n",
    "        merge_sort(rightSide)\n",
    "        \n",
    "        i = j = k = 0\n",
    "        \n",
    "        while i < len(leftSide) and j < len(rightSide):\n",
    "            if leftSide[i] < rightSide[j]:\n",
    "                arr[k] = leftSide[i]\n",
    "                i+=1\n",
    "            else:\n",
    "                arr[k] = rightSide[j]\n",
    "                j+=1\n",
    "            k+=1\n",
    "        while i < len(leftSide):\n",
    "            arr[k] = leftSide[i]\n",
    "            i+=1\n",
    "            k+=1\n",
    "        while j < len(rightSide):\n",
    "            arr[k] = rightSide[j]\n",
    "            j+=1\n",
    "            k+=1\n",
    "        return arr\n",
    "\n",
    "\n",
    "\n",
    "arr = [1,3,2,5,6,4]\n",
    "target = 5\n",
    "result = quickSort(arr)\n",
    "\n",
    "print(result)\n",
    "\n",
    "\n",
    "    \n",
    "    \n",
    "    \n",
    "    \n",
    "    "
   ],
   "metadata": {
    "collapsed": false,
    "ExecuteTime": {
     "end_time": "2023-10-12T16:56:34.920489Z",
     "start_time": "2023-10-12T16:56:34.896026Z"
    }
   }
  },
  {
   "cell_type": "code",
   "execution_count": 44,
   "outputs": [
    {
     "name": "stdout",
     "output_type": "stream",
     "text": [
      "[39, 16, 50, 27, 74, 18, 18, 29, 30, 84]\n"
     ]
    }
   ],
   "source": [
    "import random\n",
    "\n",
    "# Generate a random array of integers\n",
    "random_array = [random.randint(1, 100) for x in range(10)]\n",
    "\n",
    "print(random_array)\n"
   ],
   "metadata": {
    "collapsed": false,
    "ExecuteTime": {
     "end_time": "2023-10-12T17:14:53.711901Z",
     "start_time": "2023-10-12T17:14:53.706613Z"
    }
   }
  },
  {
   "cell_type": "markdown",
   "metadata": {},
   "source": [
    "## Question 6\n",
    "\n",
    "Consider this `Script` class:\n",
    "    \n",
    "    class Script:\n",
    "        def __init__(self, sid, mark):\n",
    "            self.sid = sid\n",
    "            self.mark = mark\n",
    "        \n",
    "        def __str__(self):\n",
    "            return \"Script\"+str((self.sid,self.mark))    \n",
    "\n",
    "Using recursion, write a Python function\n",
    "\n",
    "    def filter(A,f)\n",
    "    \n",
    "which takes an array `A` of `Script` objects and a function `f` that takes a `Script` as input and returns a boolean. We call such a function a _filter_ as it allows us to filter `A` as follows. `filter(A,f)` should return a new array of `Script`'s\n",
    "which consists of those `Script`'s in `A` who \"pass\" the filter `f`, that is, when `f` is applied to those `Script`'s it returns `True`. The order of elements in the new array should be the same as in `A` (excluding filtered-out elements).\n",
    "\n",
    "For example, the following code (see also Question 3)\n",
    "\n",
    "    def passes(s):\n",
    "        return s.mark>=40\n",
    "\n",
    "    A = [Script(0,0), Script(1000,57), Script(2000,63), Script(3000,34), Script(4000,79), Script(5000,22), Script(6000,17), Script(7000,40), Script(8000,39), Script(9000,96)]\n",
    "    printArray(filter(A,passes))\n",
    "\n",
    "should return\n",
    "\n",
    "    Script(1000, 57)\n",
    "    Script(2000, 63)\n",
    "    Script(4000, 79)\n",
    "    Script(7000, 40)\n",
    "    Script(9000, 96)\n",
    "\n",
    "You can use the `append` method we defined in earlier weeks (even if not recursive)."
   ]
  },
  {
   "cell_type": "code",
   "execution_count": null,
   "outputs": [],
   "source": [],
   "metadata": {
    "collapsed": false
   }
  },
  {
   "cell_type": "markdown",
   "metadata": {},
   "source": [
    "## Question 7\n",
    "\n",
    "Write a Python function\n",
    "\n",
    "    def isSubArray(A,B)\n",
    "    \n",
    "which takes two arrays and returns `True` if the first array is a (contiguous) subarray of the\n",
    "second array, otherwise it returns `False`. You may solve this problem using recursion or\n",
    "iteration or a mixture of recursion and iteration.\n",
    "\n",
    "For an array to be a subarray of another, it must occur entirely within the other one without\n",
    "other elements in between. For example:\n",
    "- `[31,7,25]` is a subarray of `[10,20,26,31,7,25,40,9]`\n",
    "- `[26,31,25,40]` is not a subarray of `[10,20,26,31,7,25,40,9]`\n",
    "\n",
    "_Hint_: A good way of solving this problem is to make use of an auxiliary function that takes\n",
    "two arrays and returns True if the contents of the first array occur at the front of the second\n",
    "array, otherwise it returns False. Then, A is a subarray of B if it occurs at the front of B, or at the front of B[1:], or at the front of B[2:], etc. Note you should not use A == B for arrays."
   ]
  },
  {
   "cell_type": "code",
   "execution_count": null,
   "outputs": [],
   "source": [],
   "metadata": {
    "collapsed": false
   }
  }
 ],
 "metadata": {
  "kernelspec": {
   "display_name": "Python 3 (ipykernel)",
   "language": "python",
   "name": "python3"
  },
  "language_info": {
   "codemirror_mode": {
    "name": "ipython",
    "version": 3
   },
   "file_extension": ".py",
   "mimetype": "text/x-python",
   "name": "python",
   "nbconvert_exporter": "python",
   "pygments_lexer": "ipython3",
   "version": "3.10.6"
  }
 },
 "nbformat": 4,
 "nbformat_minor": 2
}
