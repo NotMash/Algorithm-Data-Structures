{
 "cells": [
  {
   "cell_type": "markdown",
   "metadata": {},
   "source": [
    "# ECS529U Algorithms and Data Structures\n",
    "# Lab sheet 5\n",
    "\n",
    "This lab gets you to work with the array and count implementation of array lists. We also \n",
    "briefly look at priority queues.\n",
    "\n",
    "**Marks (max 5):** Questions 1,2: 1 each | Questions 3-6: 0.5 each | Question 7: 1\n",
    "\n",
    "**Note:** Make sure you download the latest version of the `ArrayList` class from QM+."
   ]
  },
  {
   "cell_type": "markdown",
   "metadata": {},
   "source": [
    "\n",
    "## Question 1 [1]\n",
    "\n",
    "Add to `ArrayList` a function\n",
    "\n",
    "    def appendAll(self, A)\n",
    "    \n",
    "that appends all elements of the array `A` in the array list (the one represented by `self`). \n",
    "\n",
    "For example, if `ls` is `[2,3,4,5]` then `ls.appendAll([42,24])` changes `ls` to `[2,3,4,5,42,24]`.\n",
    "\n",
    "Then, add to `ArrayList` a function\n",
    "\n",
    "    def toArray(self)\n",
    "    \n",
    "that returns a new array containing the same elements as the array list represented by \n",
    "`self`. Note that the length of the array should be the same as that of the array list, and not \n",
    "the same as that of its internal array. "
   ]
  },
  {
   "cell_type": "code",
   "execution_count": 55,
   "outputs": [],
   "source": [
    "class ArrayList:\n",
    "    def __init__(self):\n",
    "        self.array = []\n",
    "    \n",
    "    def appendAll(self,A):\n",
    "        for i in A:\n",
    "            self.array.append(i)\n",
    "    \n",
    "    def toArray(self):\n",
    "        return self.array[:]"
   ],
   "metadata": {
    "collapsed": false,
    "ExecuteTime": {
     "end_time": "2023-10-22T14:27:42.657972Z",
     "start_time": "2023-10-22T14:27:42.652046Z"
    }
   }
  },
  {
   "cell_type": "code",
   "execution_count": 56,
   "outputs": [
    {
     "name": "stdout",
     "output_type": "stream",
     "text": [
      "[2, 3, 4, 5]\n",
      "[2, 3, 4, 5, 42, 24]\n"
     ]
    }
   ],
   "source": [
    "ls = ArrayList()\n",
    "ls.appendAll([2, 3, 4, 5])\n",
    "print(ls.toArray())\n",
    "ls.appendAll([42, 24])\n",
    "result = ls.toArray()\n",
    "print(result)  \n"
   ],
   "metadata": {
    "collapsed": false,
    "ExecuteTime": {
     "end_time": "2023-10-22T14:27:44.591128Z",
     "start_time": "2023-10-22T14:27:44.579612Z"
    }
   }
  },
  {
   "cell_type": "markdown",
   "metadata": {},
   "source": [
    "## Question 2 [1]\n",
    "\n",
    "Modify the functions `get`, `set`, `remove` and `insert` of `ArrayList` so that they throw an exception if the \n",
    "input i is out of the bounds of the array list. \n",
    "\n",
    "To help you in this, you can use the method below, which checks whether `i` is \n",
    "between `0` and `hi` (inclusive) and, if this is not the case, throws an exception.\n",
    "\n",
    "    def _checkBounds(self, i, hi):  # checks whether i is in [0,hi]\n",
    "        if i < 0 or i > hi:\n",
    "            raise Exception(\"index \"+str(i)+\" out of bounds!\")"
   ]
  },
  {
   "cell_type": "code",
   "execution_count": 108,
   "outputs": [],
   "source": [
    "class ArrayList:\n",
    "    def __init__(self):\n",
    "        self.array = []\n",
    "    \n",
    "    def _checkBounds(self, i, hi):  # checks whether i is in [0,hi]\n",
    "        if i < 0 or i > hi:\n",
    "            raise Exception(\"index \"+str(i)+\" out of bounds!\")\n",
    "    \n",
    "    def appendAll(self,A):\n",
    "        for i in A:\n",
    "            self.array.append(i)\n",
    "    \n",
    "    \n",
    "    def toArray(self):\n",
    "        return self.array[:]\n",
    "     \n",
    "    def get(self,i):\n",
    "        self._checkBounds(i,len(self.array)-1)\n",
    "        return self.array[i]\n",
    "\n",
    "    def set(self,i,e):\n",
    "        self._checkBounds(i,len(self.array)-1)\n",
    "        self.array[i] = e\n",
    "    \n",
    "    \n",
    "    def remove(self,i):\n",
    "        self._checkBounds(i,len(self.array)-1)\n",
    "        del self.array[i]\n",
    "    \n",
    "    def insert(self,i,e):\n",
    "        self._checkBounds(i,len(self.array))\n",
    "        self.array.insert(i, e)\n",
    "        "
   ],
   "metadata": {
    "collapsed": false,
    "ExecuteTime": {
     "end_time": "2023-10-22T15:46:42.900301Z",
     "start_time": "2023-10-22T15:46:42.892655Z"
    }
   }
  },
  {
   "cell_type": "code",
   "execution_count": 109,
   "outputs": [
    {
     "name": "stdout",
     "output_type": "stream",
     "text": [
      "3\n",
      "index 6 out of bounds!\n",
      "[1, 2, 30, 4, 5]\n",
      "index 6 out of bounds!\n",
      "[1, 30, 4, 5]\n",
      "index 4 out of bounds!\n",
      "[1, 30, 20, 4, 5]\n",
      "index 6 out of bounds!\n"
     ]
    }
   ],
   "source": [
    "# Create an instance of the ArrayList class\n",
    "my_list = ArrayList()\n",
    "\n",
    "# Append elements to the list\n",
    "my_list.appendAll([1, 2, 3, 4, 5])\n",
    "\n",
    "# Test the get method\n",
    "try:\n",
    "    print(my_list.get(2))  # Should print 3\n",
    "    print(my_list.get(6))  # Should raise an exception (index out of bounds)\n",
    "except Exception as e:\n",
    "    print(e)\n",
    "\n",
    "# Test the set method\n",
    "try:\n",
    "    my_list.set(2, 30)\n",
    "    print(my_list.toArray())  # Should print [1, 2, 30, 4, 5]\n",
    "    my_list.set(6, 60)  # Should raise an exception (index out of bounds)\n",
    "except Exception as e:\n",
    "    print(e)\n",
    "\n",
    "# Test the remove method\n",
    "try:\n",
    "    my_list.remove(1)\n",
    "    print(my_list.toArray())  # Should print [1, 30, 4, 5]\n",
    "    my_list.remove(4)  # Should raise an exception (index out of bounds)\n",
    "except Exception as e:\n",
    "    print(e)\n",
    "\n",
    "# Test the insert method\n",
    "try:\n",
    "    my_list.insert(2, 20)\n",
    "    print(my_list.toArray())  # Should print [1, 30, 20, 4, 5]\n",
    "    my_list.insert(6, 60)  # Should raise an exception (index out of bounds)\n",
    "except Exception as e:\n",
    "    print(e)\n",
    "\n",
    "\n"
   ],
   "metadata": {
    "collapsed": false,
    "ExecuteTime": {
     "end_time": "2023-10-22T15:46:44.558076Z",
     "start_time": "2023-10-22T15:46:44.553267Z"
    }
   }
  },
  {
   "cell_type": "markdown",
   "metadata": {},
   "source": [
    "## Question 3 [0.5]\n",
    "\n",
    "Add to `ArrayList` a function \n",
    "\n",
    "    def removeVal(self, e)\n",
    "    \n",
    "that removes the first occurrence of `e` from the array list and returns its position in the list, or returns `-1` and does not change the array list if `e` is not in it.\n",
    "\n",
    "For example, if `ls` is the array list `[2,3,4,5,5,1,4]` then `ls.removeVal(4)` should change `ls` to `[2,3,5,5,1,4]` and return `2`, whereas `ls.removeVal(0)` should not change `ls` and return `-1`."
   ]
  },
  {
   "cell_type": "code",
   "execution_count": 119,
   "outputs": [],
   "source": [
    "class ArrayList:\n",
    "    def __init__(self):\n",
    "        self.array = []\n",
    "    \n",
    "    def _checkBounds(self, i, hi):  # checks whether i is in [0,hi]\n",
    "        if i < 0 or i > hi:\n",
    "            raise Exception(\"index \"+str(i)+\" out of bounds!\")\n",
    "    \n",
    "    def appendAll(self,A):\n",
    "        for i in A:\n",
    "            self.array.append(i)\n",
    "    \n",
    "\n",
    "    def removeVal(self, e):\n",
    "        index = -1\n",
    "        \n",
    "        newArr = []\n",
    "        \n",
    "        for i in range(len(self.array)):\n",
    "            if e ==self.array[i]:\n",
    "                index = i\n",
    "                break\n",
    "        \n",
    "        \n",
    "        if index != -1:\n",
    "            for i in range(index):\n",
    "                newArr.append(self.array[i])\n",
    "            \n",
    "            for i in range(index+1,len(self.array)):\n",
    "                newArr.append(self.array[i])\n",
    "            \n",
    "            self.array = newArr\n",
    "        return index\n",
    "            \n",
    "            \n",
    "        \n",
    "    def toArray(self):\n",
    "        return self.array[:]\n",
    "     \n",
    "    def get(self,i):\n",
    "        self._checkBounds(i,len(self.array)-1)\n",
    "        return self.array[i]\n",
    "\n",
    "    def set(self,i,e):\n",
    "        self._checkBounds(i,len(self.array)-1)\n",
    "        self.array[i] = e\n",
    "    \n",
    "    \n",
    "    def remove(self,i):\n",
    "        self._checkBounds(i,len(self.array)-1)\n",
    "        del self.array[i]\n",
    "    \n",
    "    def insert(self,i,e):\n",
    "        self._checkBounds(i,len(self.array))\n",
    "        self.array.insert(i, e)\n",
    "        "
   ],
   "metadata": {
    "collapsed": false,
    "ExecuteTime": {
     "end_time": "2023-10-22T16:01:28.966317Z",
     "start_time": "2023-10-22T16:01:28.958376Z"
    }
   }
  },
  {
   "cell_type": "code",
   "execution_count": 120,
   "outputs": [
    {
     "name": "stdout",
     "output_type": "stream",
     "text": [
      "Removed 4 from the list at position 2\n",
      "[2, 3, 5, 5, 1, 4]\n"
     ]
    }
   ],
   "source": [
    "# Example usage\n",
    "my_list = ArrayList()\n",
    "my_list.appendAll([2, 3, 4, 5, 5, 1, 4])\n",
    "\n",
    "element_to_remove = 4\n",
    "position = my_list.removeVal(element_to_remove)\n",
    "\n",
    "if position != -1:\n",
    "    print(f\"Removed {element_to_remove} from the list at position {position}\")\n",
    "else:\n",
    "    print(f\"{element_to_remove} is not in the list.\")\n",
    "    \n",
    "print(my_list.toArray())  # Should print [2, 3, 5, 5, 1, 4]\n"
   ],
   "metadata": {
    "collapsed": false,
    "ExecuteTime": {
     "end_time": "2023-10-22T16:01:30.483296Z",
     "start_time": "2023-10-22T16:01:30.477300Z"
    }
   }
  },
  {
   "cell_type": "markdown",
   "metadata": {},
   "source": [
    "## Question 4 [0.5]\n",
    "\n",
    "Add to `ArrayList` a function\n",
    "\n",
    "    sort(self)\n",
    "\n",
    "that sorts the elements in the array list using (your own implementation of) insertion sort.\n",
    "\n",
    "Note that the function should only sort the elements in the array list, not the whole of `inArray`. That is because `inArray` has many “garbage” elements that, if sorted in position, will essentially ruin the array list.\n"
   ]
  },
  {
   "cell_type": "code",
   "execution_count": 133,
   "outputs": [],
   "source": [
    "class ArrayList:\n",
    "    def __init__(self):\n",
    "        self.array = []\n",
    "        \n",
    "        \n",
    "    def sort(self):\n",
    "        for i in range(1,len(self.array)):\n",
    "            j = i\n",
    "            while self.array[j-1] > self.array[j] and j>0:\n",
    "                self.array[j-1], self.array[j] =  self.array[j], self.array[j-1]\n",
    "                j-=1\n",
    "        return self.array\n",
    "            \n",
    "    def _checkBounds(self, i, hi):  # checks whether i is in [0,hi]\n",
    "        if i < 0 or i > hi:\n",
    "            raise Exception(\"index \"+str(i)+\" out of bounds!\")\n",
    "    \n",
    "    def appendAll(self,A):\n",
    "        for i in A:\n",
    "            self.array.append(i)\n",
    "    \n",
    "\n",
    "    def removeVal(self, e):\n",
    "        index = -1\n",
    "        \n",
    "        newArr = []\n",
    "        \n",
    "        for i in range(len(self.array)):\n",
    "            if e ==self.array[i]:\n",
    "                index = i\n",
    "                break\n",
    "        \n",
    "        \n",
    "        if index != -1:\n",
    "            for i in range(index):\n",
    "                newArr.append(self.array[i])\n",
    "            \n",
    "            for i in range(index+1,len(self.array)):\n",
    "                newArr.append(self.array[i])\n",
    "            \n",
    "            self.array = newArr\n",
    "        return index\n",
    "            \n",
    "            \n",
    "        \n",
    "    def toArray(self):\n",
    "        return self.array[:]\n",
    "     \n",
    "    def get(self,i):\n",
    "        self._checkBounds(i,len(self.array)-1)\n",
    "        return self.array[i]\n",
    "\n",
    "    def set(self,i,e):\n",
    "        self._checkBounds(i,len(self.array)-1)\n",
    "        self.array[i] = e\n",
    "    \n",
    "    \n",
    "    def remove(self,i):\n",
    "        self._checkBounds(i,len(self.array)-1)\n",
    "        del self.array[i]\n",
    "    \n",
    "    def insert(self,i,e):\n",
    "        self._checkBounds(i,len(self.array))\n",
    "        self.array.insert(i, e)\n",
    "        "
   ],
   "metadata": {
    "collapsed": false,
    "ExecuteTime": {
     "end_time": "2023-10-22T16:15:32.732342Z",
     "start_time": "2023-10-22T16:15:32.723992Z"
    }
   }
  },
  {
   "cell_type": "code",
   "execution_count": 134,
   "outputs": [
    {
     "name": "stdout",
     "output_type": "stream",
     "text": [
      "Original List:\n",
      "[2, 3, 1, 5, 4]\n",
      "Sorted List:\n",
      "[1, 2, 3, 4, 5]\n"
     ]
    }
   ],
   "source": [
    "# Example usage\n",
    "my_list = ArrayList()\n",
    "my_list.appendAll([2, 3, 1, 5, 4])\n",
    "\n",
    "print(\"Original List:\")\n",
    "print(my_list.toArray())\n",
    "\n",
    "my_list.sort()\n",
    "\n",
    "print(\"Sorted List:\")\n",
    "print(my_list.toArray())"
   ],
   "metadata": {
    "collapsed": false,
    "ExecuteTime": {
     "end_time": "2023-10-22T16:15:34.137264Z",
     "start_time": "2023-10-22T16:15:34.127539Z"
    }
   }
  },
  {
   "cell_type": "markdown",
   "metadata": {},
   "source": [
    "## Question 5 [0.5]\n",
    "\n",
    "Add to `ArrayList` a function \n",
    "\n",
    "    def removeInterval(self,i,j)\n",
    "    \n",
    "that removes from the array list all elements in positions `i,i+1,...,j` and returns `True`. In the case that `j<i` your function should not change the list and return `False`.\n",
    "\n",
    "Your implementation should be efficient and not move elements more than needed (e.g. calling `self.remove` on all indices between `i` and `j` would not be efficient).\n",
    "\n",
    "For example, if `ls` is the list `[2,3,4,5,45,4,3,2]` then `ls.removeInterval(1,3)` should change `ls` to and return `True`. On the other hand, `ls.removeInterval(5,4)` should leave `ls` unchanged and return `False`."
   ]
  },
  {
   "cell_type": "code",
   "execution_count": 156,
   "outputs": [],
   "source": [
    "class ArrayList:\n",
    "    def __init__(self):\n",
    "        self.array = []\n",
    "    \n",
    "    def removeInterval(self,i,j):\n",
    "        if j<1:\n",
    "            return False\n",
    "        \n",
    "        if i>=0 and j<len(self.array):\n",
    "            del self.array[i:j+1]\n",
    "            return True\n",
    "        else:\n",
    "            return False\n",
    "     \n",
    "        \n",
    "    def sort(self):\n",
    "        for i in range(1,len(self.array)):\n",
    "            j = i\n",
    "            while self.array[j-1] > self.array[j] and j>0:\n",
    "                self.array[j-1], self.array[j] =  self.array[j], self.array[j-1]\n",
    "                j-=1\n",
    "        return self.array\n",
    "            \n",
    "    def _checkBounds(self, i, hi):  # checks whether i is in [0,hi]\n",
    "        if i < 0 or i > hi:\n",
    "            raise Exception(\"index \"+str(i)+\" out of bounds!\")\n",
    "    \n",
    "    def appendAll(self,A):\n",
    "        for i in A:\n",
    "            self.array.append(i)\n",
    "    \n",
    "\n",
    "    def removeVal(self, e):\n",
    "        index = -1\n",
    "        \n",
    "        newArr = []\n",
    "        \n",
    "        for i in range(len(self.array)):\n",
    "            if e ==self.array[i]:\n",
    "                index = i\n",
    "                break\n",
    "        \n",
    "        \n",
    "        if index != -1:\n",
    "            for i in range(index):\n",
    "                newArr.append(self.array[i])\n",
    "            \n",
    "            for i in range(index+1,len(self.array)):\n",
    "                newArr.append(self.array[i])\n",
    "            \n",
    "            self.array = newArr\n",
    "        return index\n",
    "            \n",
    "            \n",
    "        \n",
    "    def toArray(self):\n",
    "        return self.array[:]\n",
    "     \n",
    "    def get(self,i):\n",
    "        self._checkBounds(i,len(self.array)-1)\n",
    "        return self.array[i]\n",
    "\n",
    "    def set(self,i,e):\n",
    "        self._checkBounds(i,len(self.array)-1)\n",
    "        self.array[i] = e\n",
    "    \n",
    "    \n",
    "    def remove(self,i):\n",
    "        self._checkBounds(i,len(self.array)-1)\n",
    "        del self.array[i]\n",
    "    \n",
    "    def insert(self,i,e):\n",
    "        self._checkBounds(i,len(self.array))\n",
    "        self.array.insert(i, e)\n",
    "        "
   ],
   "metadata": {
    "collapsed": false,
    "ExecuteTime": {
     "end_time": "2023-10-22T16:40:48.845837Z",
     "start_time": "2023-10-22T16:40:48.827451Z"
    }
   }
  },
  {
   "cell_type": "code",
   "execution_count": 162,
   "metadata": {
    "ExecuteTime": {
     "end_time": "2023-10-22T16:42:56.990388Z",
     "start_time": "2023-10-22T16:42:56.979813Z"
    }
   },
   "outputs": [
    {
     "name": "stdout",
     "output_type": "stream",
     "text": [
      "[2, 3, 4, 5, 5, 1, 4]\n",
      "-1 [2, 3, 4, 5, 5, 1, 4]\n",
      "2 [2, 3, 5, 5, 1, 4]\n",
      "[1, 2, 3, 4, 5, 5]\n",
      "[1, 2, 3, 10, 4, 2, 5]\n",
      "None 2 None [2, 3, 10, 4, 2, 5, 6]\n",
      "False [2, 3, 4, 5, 45, 4, 3, 2]\n",
      "True [2, 45, 4, 3, 2]\n",
      "True [45, 4, 3, 2]\n",
      "True [45, 4, 3]\n"
     ]
    }
   ],
   "source": [
    "# here are some (minimal) tests for Questions 1-5\n",
    "        \n",
    "ls = ArrayList()\n",
    "ls.appendAll([2,3,4,5,5,1,4])\n",
    "print(ls.toArray())\n",
    "print(ls.removeVal(0),ls.toArray())\n",
    "print(ls.removeVal(4),ls.toArray())\n",
    "\n",
    "ls.sort()\n",
    "print(ls.toArray())\n",
    "\n",
    "ls.set(4,2)\n",
    "ls.insert(3,10)\n",
    "print(ls.toArray())\n",
    "print(ls.remove(0),ls.get(4),ls.insert(6,6),ls.toArray())\n",
    "# ls.remove(7)   # throws exception\n",
    "# ls.get(-1)     # throws exception\n",
    "# ls.set(7,1)    # throws exception\n",
    "# ls.insert(8,0) # throws exception\n",
    "\n",
    "ls = ArrayList()\n",
    "ls.appendAll([2,3,4,5,45,4,3,2])\n",
    "print(ls.removeInterval(5,4),ls.toArray())\n",
    "print(ls.removeInterval(1,3),ls.toArray())\n",
    "print(ls.removeInterval(0,0),ls.toArray())\n",
    "print(ls.removeInterval(3,3),ls.toArray())"
   ]
  },
  {
   "cell_type": "markdown",
   "metadata": {},
   "source": [
    "## Question 6 [0.5]\n",
    "\n",
    "Recall the class we used for student scripts:\n",
    "\n",
    "    class Script:\n",
    "        def __init__(self, s, m):\n",
    "            self.sid = s\n",
    "            self.mark = m\n",
    "            \n",
    "        def __str__(self)\n",
    "            return \"Script\"+str((self.sid,self.mark))\n",
    "and assume that marks are integers from 0 to 100 (inclusive). Write a function \n",
    "\n",
    "    def groupScripts(A)\n",
    "that takes an array `A` of scripts and returns a new array `G` of length 101. `G` is such that, for each number `x` (between 0 and 100), `G[x]` is an array list containing all scripts from `A` with mark `x`. Put otherwise, the function groups the scripts in `A` by mark.\n",
    "\n",
    "For example, the following code:\n",
    "\n",
    "    A = [Script(101,52), Script(95,42), Script(102,54), Script(100,42), Script(113,54), Script(99,42)]\n",
    "    G = groups(A)\n",
    "    for i in range(101): print(i,G[i])    \n",
    "should print (note the order of scripts in each array list may vary):\n",
    "\n",
    "    0 []\n",
    "    1 []\n",
    "    ...\n",
    "    42 [Script(95, 42), Script(100, 42), Script(99, 42)]\n",
    "    43 []\n",
    "    ...\n",
    "    52 [Script(101, 52)]\n",
    "    53 []\n",
    "    54 [Script(102, 54), Script(113, 54)]\n",
    "    55 []\n",
    "    ...\n",
    "    100 []"
   ]
  },
  {
   "cell_type": "code",
   "execution_count": 182,
   "outputs": [],
   "source": [
    "class Script:\n",
    "    def __init__(self, s, m):\n",
    "        self.sid = s\n",
    "        self.mark = m\n",
    "\n",
    "    def __str__(self):\n",
    "        return \"Script\" + str((self.sid, self.mark))\n",
    "    \n",
    "\n",
    "\n",
    "\n"
   ],
   "metadata": {
    "collapsed": false,
    "ExecuteTime": {
     "end_time": "2023-10-22T17:05:05.684342Z",
     "start_time": "2023-10-22T17:05:05.674687Z"
    }
   }
  },
  {
   "cell_type": "code",
   "execution_count": 184,
   "outputs": [
    {
     "name": "stdout",
     "output_type": "stream",
     "text": [
      "0 []\n",
      "1 []\n",
      "2 []\n",
      "3 []\n",
      "4 []\n",
      "5 []\n",
      "6 []\n",
      "7 []\n",
      "8 []\n",
      "9 []\n",
      "10 []\n",
      "11 []\n",
      "12 []\n",
      "13 []\n",
      "14 []\n",
      "15 []\n",
      "16 []\n",
      "17 []\n",
      "18 []\n",
      "19 []\n",
      "20 []\n",
      "21 []\n",
      "22 []\n",
      "23 []\n",
      "24 []\n",
      "25 []\n",
      "26 []\n",
      "27 []\n",
      "28 []\n",
      "29 []\n",
      "30 []\n",
      "31 []\n",
      "32 []\n",
      "33 []\n",
      "34 []\n",
      "35 []\n",
      "36 []\n",
      "37 []\n",
      "38 []\n",
      "39 []\n",
      "40 []\n",
      "41 []\n",
      "42 ['Script(95, 42)', 'Script(100, 42)', 'Script(99, 42)']\n",
      "43 []\n",
      "44 []\n",
      "45 []\n",
      "46 []\n",
      "47 []\n",
      "48 []\n",
      "49 []\n",
      "50 []\n",
      "51 []\n",
      "52 ['Script(101, 52)']\n",
      "53 []\n",
      "54 ['Script(102, 54)', 'Script(113, 54)']\n",
      "55 []\n",
      "56 []\n",
      "57 []\n",
      "58 []\n",
      "59 []\n",
      "60 []\n",
      "61 []\n",
      "62 []\n",
      "63 []\n",
      "64 []\n",
      "65 []\n",
      "66 []\n",
      "67 []\n",
      "68 []\n",
      "69 []\n",
      "70 []\n",
      "71 []\n",
      "72 []\n",
      "73 []\n",
      "74 []\n",
      "75 []\n",
      "76 []\n",
      "77 []\n",
      "78 []\n",
      "79 []\n",
      "80 []\n",
      "81 []\n",
      "82 []\n",
      "83 []\n",
      "84 []\n",
      "85 []\n",
      "86 []\n",
      "87 []\n",
      "88 []\n",
      "89 []\n",
      "90 []\n",
      "91 []\n",
      "92 []\n",
      "93 []\n",
      "94 []\n",
      "95 []\n",
      "96 []\n",
      "97 []\n",
      "98 []\n",
      "99 []\n",
      "100 []\n"
     ]
    }
   ],
   "source": [],
   "metadata": {
    "collapsed": false,
    "ExecuteTime": {
     "end_time": "2023-10-22T17:05:34.066269Z",
     "start_time": "2023-10-22T17:05:34.055708Z"
    }
   }
  },
  {
   "cell_type": "markdown",
   "metadata": {},
   "source": [
    "## Priority Queues\n",
    "\n",
    "For the next question, we look at another data structure, namely priority queues. A priority \n",
    "queue is a queue in which each element has a priority, and where dequeueing always \n",
    "returns the item with the greatest priority in the queue.\n",
    "\n",
    "We start by defining a class of priority queue elements (PQ-elements for short):\n",
    "\n",
    "    class PQElement:\n",
    "        def __init__(self, v, p):\n",
    "            self.val = v\n",
    "            self.priority = p\n",
    "            \n",
    "So, a PQ-element is a pair consisting of a value (which can be anything, e.g. an integer, a \n",
    "string, an array, etc.) and a priority (which is an integer). \n",
    "\n",
    "Below we also implemented the `__str__` function to be able to print PQ-elements."
   ]
  },
  {
   "cell_type": "code",
   "execution_count": 4,
   "metadata": {
    "ExecuteTime": {
     "end_time": "2023-10-21T14:38:19.651795Z",
     "start_time": "2023-10-21T14:38:19.642337Z"
    }
   },
   "outputs": [],
   "source": [
    "class PQElement:\n",
    "    def __init__(self, v, p):\n",
    "        self.val = v\n",
    "        self.priority = p\n",
    "    \n",
    "    def __str__(self):\n",
    "        return str((self.val,self.priority))"
   ]
  },
  {
   "cell_type": "markdown",
   "metadata": {},
   "source": [
    "## Question 7 [1]\n",
    "\n",
    "Write a Python class `PQueue` that implements a priority queue using an array list of \n",
    "`PQElement`’s. In particular, you need to implement 5 functions:\n",
    "\n",
    "- `__init__`: for creating an empty priority queue\n",
    "- `size`: for returning the size of the priority queue\n",
    "- `enq`: for enqueueing a new PQ-element in the priority queue\n",
    "- `deq` for dequeueing from the priority queue the PQ-element with the greatest priority\n",
    "- `__str__`: for printing the elements of the priority queue into a string, in order of decreasing priority\n",
    "\n",
    "Your function for dequeueing should have complexity Θ(1).\n",
    "\n",
    "Test each of the functions on examples of your own making. For example, running:\n",
    "\n",
    "    ls = PQueue()\n",
    "    A = [(\"D\",7),(\"S\",5),(\"A\",0),(\"G\",4),(\"Q\",8),(\"P\",3),(\"A\",-4),(\"S\",1),(\"S\",-1),(\"T\",2),(\"G\",-2)]\n",
    "    for x in A: ls.enq(PQElement(x[0],x[1]))\n",
    "    print(ls)\n",
    "    print(ls.deq(),ls)\n",
    "should give this printout:\n",
    "\n",
    "    [('Q', 8),('D', 7),('S', 5),('G', 4),('P', 3),('T', 2),('S', 1),('A', 0),('S', -1),('G', -2),('A', -4)]\n",
    "    ('Q', 8) [('D', 7),('S', 5),('G', 4),('P', 3),('T', 2),('S', 1),('A', 0),('S', -1),('G', -2),('A', -4)]\n",
    "_Hint_ : you can use the class `ArrayList` to store `PQElement`’s. Accordingly, you can modify the \n",
    "class `Queue` that we saw in the lecture exercises so that it implements a queue of `PQElement`’s. You then need to modify the latter so that dequeueing always removes the element with the highest priority. One way to achieve this is to enqueue elements in some specific order based on their priority."
   ]
  },
  {
   "cell_type": "code",
   "execution_count": null,
   "outputs": [],
   "source": [],
   "metadata": {
    "collapsed": false
   }
  },
  {
   "cell_type": "code",
   "execution_count": 179,
   "outputs": [
    {
     "name": "stdout",
     "output_type": "stream",
     "text": [
      "[('Q', 8), ('D', 7), ('S', 5), ('G', 4), ('P', 3), ('T', 2), ('S', 1), ('A', 0), ('S', -1), ('G', -2), ('A', -4)]\n",
      "('Q', 8) [('D', 7), ('S', 5), ('G', 4), ('P', 3), ('T', 2), ('S', 1), ('A', 0), ('S', -1), ('G', -2), ('A', -4)]\n",
      "[('D', 7), ('S', 5), ('G', 4), ('P', 3), ('T', 2), ('S', 1), ('A', 0), ('S', -1), ('G', -2), ('A', -4)]\n"
     ]
    }
   ],
   "source": [
    "class PQElement:\n",
    "    def __init__(self, value, priority):\n",
    "        self.value = value\n",
    "        self.priority = priority\n",
    "\n",
    "    def __str__(self):\n",
    "        return f\"('{self.value}', {self.priority})\"\n",
    "\n",
    "    def toArray(self):\n",
    "        return [self.value, self.priority]\n",
    "\n",
    "\n",
    "class PQueue:\n",
    "    def __init__(self):\n",
    "        self.queue = []\n",
    "\n",
    "    def size(self):\n",
    "        return len(self.queue)\n",
    "\n",
    "    def enq(self, element):\n",
    "        self.queue.append(element)\n",
    "        self.queue.sort(key=lambda x: x.priority, reverse=True)\n",
    "\n",
    "    def deq(self):\n",
    "        if not self.queue:\n",
    "            return None\n",
    "        return self.queue.pop(0)\n",
    "\n",
    "    def __str__(self):\n",
    "        elements_str = [str(item) for item in self.queue]\n",
    "        return f\"[{', '.join(elements_str)}]\"\n",
    "\n",
    "    def toArray(self):\n",
    "        return [item.toArray() for item in self.queue]\n",
    "\n",
    "# Test the PQueue\n",
    "ls = PQueue()\n",
    "A = [(\"D\", 7), (\"S\", 5), (\"A\", 0), (\"G\", 4), (\"Q\", 8), (\"P\", 3), (\"A\", -4), (\"S\", 1), (\"S\", -1), (\"T\", 2), (\"G\", -2)]\n",
    "for x in A:\n",
    "    ls.enq(PQElement(x[0], x[1]))\n",
    "\n",
    "print(ls)\n",
    "print(ls.deq(), ls)\n",
    "print(ls)\n"
   ],
   "metadata": {
    "collapsed": false,
    "ExecuteTime": {
     "end_time": "2023-10-22T17:00:44.091236Z",
     "start_time": "2023-10-22T17:00:44.086131Z"
    }
   }
  },
  {
   "cell_type": "code",
   "execution_count": null,
   "outputs": [],
   "source": [],
   "metadata": {
    "collapsed": false
   }
  }
 ],
 "metadata": {
  "kernelspec": {
   "display_name": "Python 3 (ipykernel)",
   "language": "python",
   "name": "python3"
  },
  "language_info": {
   "codemirror_mode": {
    "name": "ipython",
    "version": 3
   },
   "file_extension": ".py",
   "mimetype": "text/x-python",
   "name": "python",
   "nbconvert_exporter": "python",
   "pygments_lexer": "ipython3",
   "version": "3.10.6"
  }
 },
 "nbformat": 4,
 "nbformat_minor": 2
}
